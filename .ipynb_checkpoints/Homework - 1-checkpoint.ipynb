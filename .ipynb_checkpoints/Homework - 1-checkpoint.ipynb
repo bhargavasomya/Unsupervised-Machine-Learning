{
 "cells": [
  {
   "cell_type": "code",
   "execution_count": null,
   "metadata": {},
   "outputs": [],
   "source": [
    "import pandas as pd\n",
    "from matplotlib import pyplot as plt\n",
    "import statsmodels.formula.api as smf\n",
    "\n",
    "%matplotlib inline"
   ]
  },
  {
   "cell_type": "code",
   "execution_count": null,
   "metadata": {},
   "outputs": [],
   "source": [
    "def gen():\n",
    "    with open('AMiner-Paper.txt', 'r',  encoding=\"utf8\") as f:\n",
    "        datum={}\n",
    "        citations =0\n",
    "        row=0\n",
    "        readFile = f.readlines()\n",
    "        for line in readFile:\n",
    "            \n",
    "            if '#index' in line:\n",
    "                if bool(datum):\n",
    "                    datum['citations'] = citations\n",
    "                    try:\n",
    "                        for i in range(len(datum['author'])):\n",
    "                            \n",
    "                            datum_to_save = datum.copy()\n",
    "                            datum_to_save['author']=datum['author'][i]\n",
    "                            datum_to_save['affiliation']=datum['affiliation'][i]\n",
    "                            yield datum_to_save\n",
    "                            row+=1\n",
    "                    except IndexError as e:\n",
    "                        continue\n",
    "                    \n",
    "                    datum={}\n",
    "                    citations =0\n",
    "                datum['id'] = line[7:].rstrip()\n",
    "                \n",
    "            elif '#*' in line:\n",
    "                datum['title'] = line[3:].rstrip()\n",
    "            elif '#@' in line:\n",
    "                datum['author'] = line[3:].rstrip().rsplit(\";\")\n",
    "            elif '#o' in line:\n",
    "                datum['affiliation'] = line[3:].rstrip().rsplit(\";\")\n",
    "            elif '#t' in line:\n",
    "                datum['year'] = line[3:].rstrip()\n",
    "            elif '#c' in line:\n",
    "                datum['venue'] = line[3:].rstrip()\n",
    "            elif '#%' in line:\n",
    "                citations +=1\n",
    "            elif '#!' in line:\n",
    "                datum['abstract'] = line[3:].rstrip()\n",
    "\n",
    "\n",
    "data = pd.DataFrame(gen(), columns =('id', 'title', 'author', 'affiliation', 'year', \n",
    "                                  'venue', 'citations', 'abstract'))\n",
    "data['year'] =pd.to_numeric(data['year'], errors = 'coerce').fillna(0)"
   ]
  }
 ],
 "metadata": {
  "kernelspec": {
   "display_name": "Python 3",
   "language": "python",
   "name": "python3"
  },
  "language_info": {
   "codemirror_mode": {
    "name": "ipython",
    "version": 3
   },
   "file_extension": ".py",
   "mimetype": "text/x-python",
   "name": "python",
   "nbconvert_exporter": "python",
   "pygments_lexer": "ipython3",
   "version": "3.6.4"
  }
 },
 "nbformat": 4,
 "nbformat_minor": 2
}
